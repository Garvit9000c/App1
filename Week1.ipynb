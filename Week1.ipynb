{
  "nbformat": 4,
  "nbformat_minor": 0,
  "metadata": {
    "colab": {
      "name": "Week1.ipynb",
      "provenance": [],
      "collapsed_sections": [],
      "authorship_tag": "ABX9TyP1dLpyVqKKrTs5GAStnLF4",
      "include_colab_link": true
    },
    "kernelspec": {
      "name": "python3",
      "display_name": "Python 3"
    },
    "language_info": {
      "name": "python"
    }
  },
  "cells": [
    {
      "cell_type": "markdown",
      "metadata": {
        "id": "view-in-github",
        "colab_type": "text"
      },
      "source": [
        "<a href=\"https://colab.research.google.com/github/Garvit9000c/App1/blob/main/Week1.ipynb\" target=\"_parent\"><img src=\"https://colab.research.google.com/assets/colab-badge.svg\" alt=\"Open In Colab\"/></a>"
      ]
    },
    {
      "cell_type": "markdown",
      "source": [
        "# https://leetcode.com/problems/remove-duplicates-from-sorted-array/"
      ],
      "metadata": {
        "id": "5wG2n1gmnEG4"
      }
    },
    {
      "cell_type": "code",
      "execution_count": null,
      "metadata": {
        "id": "BupX6GqcnA0R"
      },
      "outputs": [],
      "source": [
        "class Solution:\n",
        "    def removeDuplicates(self, nums: List[int]) -> int:\n",
        "        index=0\n",
        "        prev=None\n",
        "        for i in nums:\n",
        "            if i!=prev:\n",
        "                nums[index]=i\n",
        "                index=index+1\n",
        "                prev=i\n",
        "        k=index+1\n",
        "        del nums[index:]\n",
        "        return k"
      ]
    },
    {
      "cell_type": "markdown",
      "source": [
        "# https://leetcode.com/problems/longest-substring-without-repeating"
      ],
      "metadata": {
        "id": "OcjDsKd9nuzs"
      }
    },
    {
      "cell_type": "code",
      "source": [
        "class Solution:\n",
        "    def lengthOfLongestSubstring(self, s: str) -> int: # O(n)\n",
        "        Hash = [0] * 128\n",
        "        left = 0\n",
        "        right = 0\n",
        "        temp_length = 0\n",
        "        while right < len(s):\n",
        "            r = s[right]\n",
        "            Hash[ord(r)] += 1\n",
        "            while Hash[ord(r)] > 1:\n",
        "                l = s[left]\n",
        "                Hash[ord(l)] -= 1\n",
        "                left += 1\n",
        "            temp_length = max(temp_length, right - left + 1)\n",
        "            right += 1\n",
        "        return temp_length"
      ],
      "metadata": {
        "id": "uMZEF3qXn34N"
      },
      "execution_count": null,
      "outputs": []
    },
    {
      "cell_type": "markdown",
      "source": [
        "# https://leetcode.com/problems/3sum"
      ],
      "metadata": {
        "id": "q1_NsGQnn_fA"
      }
    },
    {
      "cell_type": "code",
      "source": [
        "class Solution:\n",
        "    def threeSum(self, nums):\n",
        "        nums.sort()\n",
        "        res=[]\n",
        "        for i,a in enumerate(nums):\n",
        "            if i>0 and a==nums[i-1]:\n",
        "                continue\n",
        "            l, r = i+1, len(nums)-1\n",
        "            while l<r:\n",
        "                threesum= a + nums[l] + nums[r]\n",
        "                if threesum>0:\n",
        "                    r-=1\n",
        "                elif threesum<0:\n",
        "                    l+=1\n",
        "                else:\n",
        "                    res.append([a,nums[l],nums[r]])\n",
        "                    l +=1\n",
        "                    while nums[l]==nums[l-1] and l<r:\n",
        "                        l+=1\n",
        "        return res"
      ],
      "metadata": {
        "id": "0cnq5213oF5h"
      },
      "execution_count": null,
      "outputs": []
    },
    {
      "cell_type": "markdown",
      "source": [
        "# https://leetcode.com/problems/3sum-closest"
      ],
      "metadata": {
        "id": "b-EjwjxUoKua"
      }
    },
    {
      "cell_type": "code",
      "source": [
        "class Solution:\n",
        "    def threeSumClosest(self, nums: List[int], target: int) -> int:\n",
        "        nums.sort()\n",
        "        length=len(nums)\n",
        "        index=0\n",
        "        res=10000\n",
        "        while index<length:\n",
        "            l=index+1\n",
        "            r=length-1\n",
        "            while(l<r):\n",
        "                error=target-nums[index]-nums[l]-nums[r]\n",
        "                if abs(error)<abs(res):\n",
        "                    res=error\n",
        "                if error<0:\n",
        "                    r-=1\n",
        "                elif error>0:\n",
        "                    l+=1\n",
        "                else:\n",
        "                    return target\n",
        "            index+=1\n",
        "        return target-res"
      ],
      "metadata": {
        "id": "4Q-HCkCvoPSg"
      },
      "execution_count": null,
      "outputs": []
    },
    {
      "cell_type": "markdown",
      "source": [
        "# https://leetcode.com/problems/3sum-with-multiplicity"
      ],
      "metadata": {
        "id": "-v6CqKtEoU9P"
      }
    },
    {
      "cell_type": "code",
      "source": [
        "class Solution:\n",
        "    def threeSumMulti(self, arr: List[int], target: int) -> int:\n",
        "        mod= 10 **9 + 7\n",
        "        result=0\n",
        "        count=[0]*101\n",
        "        for no in arr:\n",
        "            count[no]+=1\n",
        "        \n",
        "        for i in range (0,101):\n",
        "            for j in range (i,101):\n",
        "                \n",
        "                k=target-i-j\n",
        "                \n",
        "                if k <0 or k> 100 :\n",
        "                    continue\n",
        "                    \n",
        "                elif i==j and j==k:\n",
        "                    result += (count[i] * (count[i]-1) * (count[i]-2) )/6\n",
        "                    \n",
        "                elif i ==j and j != k:\n",
        "                     result += (count[i] * (count[i]-1) ) /2 * count[k]\n",
        "                        \n",
        "                elif i < j and j<k :\n",
        "                    result += count[i] *count[j] * count[k]\n",
        "                    \n",
        "        return int(result % mod)"
      ],
      "metadata": {
        "id": "ViPp8lSVocP_"
      },
      "execution_count": null,
      "outputs": []
    },
    {
      "cell_type": "markdown",
      "source": [
        "# https://leetcode.com/problems/monotonic-array"
      ],
      "metadata": {
        "id": "KFF_il8Goev4"
      }
    },
    {
      "cell_type": "code",
      "source": [
        "class Solution:\n",
        "    def isMonotonic(self, nums: List[int]) -> bool:\n",
        "        index=1\n",
        "        mood=0\n",
        "        while index<len(nums):\n",
        "            m=self.sgn(nums[index]-nums[index-1])\n",
        "            if m!=0:\n",
        "                if mood==0:\n",
        "                    mood=m\n",
        "                else:\n",
        "                    if mood!=m:\n",
        "                        return False\n",
        "            index+=1\n",
        "        return True\n",
        "    \n",
        "    def sgn(self,val):\n",
        "        if val>0:\n",
        "            return +1\n",
        "        elif val<0:\n",
        "            return -1\n",
        "        else:\n",
        "            return 0"
      ],
      "metadata": {
        "id": "wlwJgmHVohig"
      },
      "execution_count": null,
      "outputs": []
    },
    {
      "cell_type": "markdown",
      "source": [
        "# https://leetcode.com/problems/remove-k-digits"
      ],
      "metadata": {
        "id": "plQFrlfIojTp"
      }
    },
    {
      "cell_type": "code",
      "source": [
        "class Solution:\n",
        "    def removeKdigits(self, num: str, k: int) -> str:\n",
        "        length=len(num)\n",
        "        target=length-k\n",
        "        if target==0:\n",
        "            return \"0\"\n",
        "        else:\n",
        "            index=-1*length\n",
        "            res=''\n",
        "            while len(res)!=length-k:\n",
        "                min=int(num[index])\n",
        "                temp=index\n",
        "                while index<=-1*target:\n",
        "                    val=int(num[index])\n",
        "                    if val<min:\n",
        "                        min=val\n",
        "                        temp=index\n",
        "                    index+=1\n",
        "                res+=str(min)\n",
        "                target-=1\n",
        "                index=temp+1\n",
        "            res=res.lstrip('0')\n",
        "            if res==\"\": return \"0\"\n",
        "            else: return res"
      ],
      "metadata": {
        "id": "8gZXnQy6ompn"
      },
      "execution_count": null,
      "outputs": []
    },
    {
      "cell_type": "markdown",
      "source": [
        "# https://leetcode.com/problems/next-permutation"
      ],
      "metadata": {
        "id": "mpSJGOaOoqQa"
      }
    },
    {
      "cell_type": "code",
      "source": [
        "class Solution:\n",
        "    def nextPermutation(self, nums):\n",
        "        index=-1\n",
        "        while index>-1*len(nums) :\n",
        "            if nums[index-1]<nums[index]:\n",
        "                back,front,last=nums[index:],nums[:index-1],nums[index-1]\n",
        "                val=self.deep(back,last)\n",
        "                back.remove(val),back.append(last),back.sort()\n",
        "                front.append(val)\n",
        "                nums[0:]=front+back\n",
        "                break\n",
        "            index-=1\n",
        "        else: nums.sort()\n",
        "\n",
        "    def deep(self,arr,num):\n",
        "        min=arr[0]\n",
        "        for i in arr:\n",
        "            if i<min and i>num: min=i\n",
        "        return min"
      ],
      "metadata": {
        "id": "_yDv3wz0oun6"
      },
      "execution_count": null,
      "outputs": []
    }
  ]
}